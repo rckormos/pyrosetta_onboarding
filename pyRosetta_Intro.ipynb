{
 "cells": [
  {
   "cell_type": "markdown",
   "id": "8253d8ed",
   "metadata": {},
   "source": [
    "# Introduction\n",
    "\n",
    "Welcome to the 2021 UCSF Biophysics Onboarding tutorial on protein modelling with pyRosetta! The contents of this tutorial were inspired by a pyRosetta tutorial produced on YouTube by Professor Sari Sabban of King Abdulaziz University.\n",
    "\n",
    "\n",
    "Before getting started here, you should make sure that you have activated the pyRosetta conda environment and opened jupyter notebook with the following command:\n",
    "\n",
    "`sudo jupyter notebook --allow-root`\n",
    "\n",
    "Let's begin by importing pyRosetta into this Python session and initializing the module."
   ]
  },
  {
   "cell_type": "code",
   "execution_count": null,
   "id": "e88e1ae6",
   "metadata": {
    "scrolled": true
   },
   "outputs": [],
   "source": [
    "# load some native Python modules\n",
    "import os\n",
    "# load pyRosetta module\n",
    "from pyrosetta import *\n",
    "from pyrosetta.toolbox import *\n",
    "# initialize pyRosetta state (e.g. random number generator seed)\n",
    "init()"
   ]
  },
  {
   "cell_type": "markdown",
   "id": "c1d0b815",
   "metadata": {},
   "source": [
    "### pyRosetta Poses from the RCSB and from PDB Files\n",
    "\n",
    "pyRosetta is a useful tool for modelling and manipulating protein structures, so in order to make use of it we will need to load in a protein! For this exercise we will use the <i>de novo</i> designed protein Co-LOCKR from Lajoie et al. (2020), which exhibits switching behavior between two states. The authors have deposited the structure to the RCSB (the U.S.-based host of the Protein Data Bank) with the four-letter accession code 7JH5. We will load it using the pyRosetta function `pose_from_rcsb`."
   ]
  },
  {
   "cell_type": "code",
   "execution_count": null,
   "id": "7176f1e9",
   "metadata": {},
   "outputs": [],
   "source": [
    "pose = pose_from_rcsb('7jh5')"
   ]
  },
  {
   "cell_type": "markdown",
   "id": "d644e3f6",
   "metadata": {},
   "source": [
    "You will notice that the above code returned quite a good deal of output.  This is because, in addition to downloading the structure from the RCSB in PDB format (creating the file `7JH5.pdb` in the working directory), it performed a series of operations to \"clean\" the PDB file, such as removing solvent and other non-protein atoms (creating the file `7JH5.clean.pdb`) and inferring the sidechain conformations of some residues which had missing sidechain information in the initial PDB file. This latter issue is why you can see mention of \"packer tasks\" and the \"Dunbrack rotamer library.\" pyRosetta is scanning through a library of rotamers, or statistically-preferred sidechain conformers, to determine the set that leads to ideal packing of the protein fold in the regions where sidechains need to be inferred.\n",
    "\n",
    "The appearance of these additional PDB files can be noted using `os.listdir` on the current working directory."
   ]
  },
  {
   "cell_type": "code",
   "execution_count": null,
   "id": "ee7b9de9",
   "metadata": {},
   "outputs": [],
   "source": [
    "os.listdir('.')"
   ]
  },
  {
   "cell_type": "markdown",
   "id": "15ae0bd1",
   "metadata": {},
   "source": [
    "pyRosetta can also read in protein structures from PDB files directly, which can be useful when dealing with output from other software such as PyMOL and AlphaFold. An example of this follows:"
   ]
  },
  {
   "cell_type": "code",
   "execution_count": null,
   "id": "913c46e8",
   "metadata": {},
   "outputs": [],
   "source": [
    "pose = pose_from_pdb('7JH5.clean.pdb')"
   ]
  },
  {
   "cell_type": "markdown",
   "id": "d7c21e4c",
   "metadata": {},
   "source": [
    "### Pose from Sequence\n",
    "\n",
    "pyRosetta also supports input of protein poses from sequence, although the pose object returned by this input function will not be initialized with atomic coordinates.  These will have to be inferred at a later stage.  Here we will load a pose from the sequence of a single \"key\" helix designed to pair with the Co-LOCKR protein."
   ]
  },
  {
   "cell_type": "code",
   "execution_count": null,
   "id": "e68bb824",
   "metadata": {},
   "outputs": [],
   "source": [
    "seq_key = 'SGGSDEARKAIARVKRESKRIVEDAERLIREAAAASEKISREAERLIRGG'\n",
    "pose_key = pose_from_sequence(seq_key)"
   ]
  },
  {
   "cell_type": "markdown",
   "id": "8fad6abb",
   "metadata": {},
   "source": [
    "### Sequence from Pose\n",
    "\n",
    "We know now how to get a pose from a sequence, but pyRosetta also lets us get a sequence from a pose. Let's get the sequence of that original pose we read in from the RCSB."
   ]
  },
  {
   "cell_type": "code",
   "execution_count": null,
   "id": "89052031",
   "metadata": {},
   "outputs": [],
   "source": [
    "pose.sequence()"
   ]
  },
  {
   "cell_type": "markdown",
   "id": "787b2fd9",
   "metadata": {},
   "source": [
    "### Residue Indexing\n",
    "\n",
    "Let's now get some information about a particular residue in the protein, including its name (amino acid three-letter code) and its chain (indexed by a capital letter, 'A' or 'B' for 7JH5)."
   ]
  },
  {
   "cell_type": "code",
   "execution_count": null,
   "id": "d5349fd2",
   "metadata": {},
   "outputs": [],
   "source": [
    "print('total_residues :', pose.total_residue())\n",
    "\n",
    "resn = 42 # feel free to change this value and execute the next three cells as many times as you'd like\n",
    "\n",
    "assert resn >= 1 and resn <= pose.total_residue() # determine whether resn falls within its range\n",
    "                                                  # note that pyRosetta indexes from 1 here, not from 0\n",
    "\n",
    "res = pose.residue(resn).name()\n",
    "chain = pose.pdb_info().chain(resn)\n",
    "\n",
    "print('residue :', '\\t', res)\n",
    "print('chain :', '\\t', chain)"
   ]
  },
  {
   "cell_type": "markdown",
   "id": "5b4459ba",
   "metadata": {},
   "source": [
    "pyRosetta assigns integer indices to each residue in the protein structure that ascend in unbroken succession from the N-terminus of the chain in which the residue can be found. These indices reset to 0 for each chain. These often do not agree with the residue indices in PDB files, which may account for residues that are not resolved in or have been truncated from the structure. To go between pyRosetta indices and Python indices, the following methods are used:"
   ]
  },
  {
   "cell_type": "code",
   "execution_count": null,
   "id": "1af6a07f",
   "metadata": {},
   "outputs": [],
   "source": [
    "idx = pose.pdb_info().number(resn)\n",
    "py_idx = pose.pdb_info().pdb2pose(chain, idx)\n",
    "\n",
    "print(idx, py_idx)\n",
    "\n",
    "assert py_idx == resn # ensure that calculation of pynum has taken us full circle"
   ]
  },
  {
   "cell_type": "markdown",
   "id": "f9ffff39",
   "metadata": {},
   "source": [
    "### Residue Dihedral Angles\n",
    "\n",
    "It is also easy to check the values (in degrees) of the phi, psi, and omega backbone dihedrals for a given residue. (Recall that omega, the dihedral within the peptide moiety, is almost always close to 180 degrees.)"
   ]
  },
  {
   "cell_type": "code",
   "execution_count": null,
   "id": "ab183bbb",
   "metadata": {},
   "outputs": [],
   "source": [
    "phi = pose.phi(resn)\n",
    "psi = pose.psi(resn)\n",
    "omega = pose.omega(resn)\n",
    "print('phi :', phi)\n",
    "print('psi :', psi)\n",
    "print('omega :', omega)"
   ]
  },
  {
   "cell_type": "markdown",
   "id": "68911db6",
   "metadata": {},
   "source": [
    "### Number of Chains\n",
    "\n",
    "We can check the number of chains in a pose object, as well as split one into a list of poses, one for each chain."
   ]
  },
  {
   "cell_type": "code",
   "execution_count": null,
   "id": "d4d01cb3",
   "metadata": {},
   "outputs": [],
   "source": [
    "num_chains = pose.num_chains()\n",
    "print('number of chains :', num_chains)\n",
    "\n",
    "poseA, poseB = pose.split_by_chain()"
   ]
  },
  {
   "cell_type": "markdown",
   "id": "304f7dbd",
   "metadata": {},
   "source": [
    "### Secondary Structure\n",
    "\n",
    "It can be useful to think about the secondary structure of a protein (e.g. alpha helices and beta strands). pyRosetta has a simple built-in method for calculating secondary structure for each residue on the basis of its backbone phi and psi angles. In this scheme, 'H' denotes a helical residue, 'E' a residue in a beta strand or sheet, and 'L' a residue in an unstructured loop. It can be seen that the chains of 7JH5 each consist of a set of six looped helices."
   ]
  },
  {
   "cell_type": "code",
   "execution_count": null,
   "id": "ae7c17a8",
   "metadata": {},
   "outputs": [],
   "source": [
    "for chain_pose in [poseA, poseB]:\n",
    "    chain_pose.display_secstruct()"
   ]
  },
  {
   "cell_type": "markdown",
   "id": "2d24c431",
   "metadata": {},
   "source": [
    "# Viewing, Scoring, and Altering Poses\n",
    "\n",
    "### Viewing Poses with PyMOL\n",
    "\n",
    "PyMOL, like Chimera, is software for viewing the conformations of biomolecular systems such as proteins. The developers of pyRosetta have enabled pyRosetta and PyMOL to be linked together. After adding the correct lines to your .pymolrc file and starting PyMOL in another terminal window, the following will enable you to visualize your structures from a pyRosetta session:"
   ]
  },
  {
   "cell_type": "code",
   "execution_count": null,
   "id": "d93b0124",
   "metadata": {},
   "outputs": [],
   "source": [
    "pymover = PyMOLMover()\n",
    "pymover.apply(poseA)"
   ]
  },
  {
   "cell_type": "markdown",
   "id": "83de9394",
   "metadata": {},
   "source": [
    "### Scoring the Conformation"
   ]
  },
  {
   "cell_type": "markdown",
   "id": "b5209db6",
   "metadata": {},
   "source": [
    "Central to Rosetta is its score function, which serves as a (very rough) approximation of the free energy (up to a constant) of a folded protein. The most commonly used (and default) score function is `ref2015`. This function can be loaded in as the \"full-atom\" score function and the weights of each term can be visualized by printing the score function object:"
   ]
  },
  {
   "cell_type": "code",
   "execution_count": null,
   "id": "2a508e7b",
   "metadata": {},
   "outputs": [],
   "source": [
    "scorefxn = get_fa_scorefxn()\n",
    "print(scorefxn)"
   ]
  },
  {
   "cell_type": "markdown",
   "id": "d8d28291",
   "metadata": {},
   "source": [
    "This score function behaves as a standard Python function, which takes a pose as input and returns a single float: the score of that pose."
   ]
  },
  {
   "cell_type": "code",
   "execution_count": null,
   "id": "6e44cde8",
   "metadata": {},
   "outputs": [],
   "source": [
    "score = scorefxn(poseA)\n",
    "print('score =', score)"
   ]
  },
  {
   "cell_type": "markdown",
   "id": "60a2cd9c",
   "metadata": {},
   "source": [
    "We can also see a more detailed breakdown of the various contributions to the score."
   ]
  },
  {
   "cell_type": "code",
   "execution_count": null,
   "id": "a715e718",
   "metadata": {},
   "outputs": [],
   "source": [
    "scorefxn.show(pose)"
   ]
  },
  {
   "cell_type": "markdown",
   "id": "ee236ac3",
   "metadata": {},
   "source": [
    "### Altering Dihedral Angles\n",
    "\n",
    "pyRosetta is one of the only tools that allows you to alter the conformation of a protein one dihedral angle at a time, by swinging the remainder of the protein on the C-terminal side of a dihedral angle around the axis of the dihedral angle under consideration. An example follows:"
   ]
  },
  {
   "cell_type": "code",
   "execution_count": null,
   "id": "66519f88",
   "metadata": {},
   "outputs": [],
   "source": [
    "py_idx = pose.pdb_info().pdb2pose('A', 242) # residue 242 is the central residue of the last loop in 7JH5\n",
    "phi = pose.phi(py_idx)\n",
    "\n",
    "poseA.set_phi(py_idx, phi - 90)\n",
    "\n",
    "new_score = scorefxn(poseA)\n",
    "print('score =', new_score)\n",
    "\n",
    "pymover.apply(poseA)"
   ]
  },
  {
   "cell_type": "markdown",
   "id": "27013d73",
   "metadata": {},
   "source": [
    "You will notice the score went up considerably after this dihedral was changed. This is to be expected, since a large amount of hydrophobic surface area was unburied when the helix swung upwards."
   ]
  },
  {
   "cell_type": "markdown",
   "id": "b60a946e",
   "metadata": {},
   "source": [
    "### Per-Residue Scores\n",
    "\n",
    "It is possible to see the (unweighted) contributions of each term to a particular residue's score."
   ]
  },
  {
   "cell_type": "code",
   "execution_count": null,
   "id": "423de2c6",
   "metadata": {},
   "outputs": [],
   "source": [
    "poseA.energies().show(py_idx)"
   ]
  },
  {
   "cell_type": "markdown",
   "id": "ede6da39",
   "metadata": {},
   "source": [
    "### Mutating Residues\n",
    "\n",
    "pyRosetta makes it easy to mutate one residue to another. A subsequent round of repacking (that accompanies the action of mutation) helps to accommodate the new residue in a low-energy conformation."
   ]
  },
  {
   "cell_type": "code",
   "execution_count": null,
   "id": "10e78a50",
   "metadata": {},
   "outputs": [],
   "source": [
    "print('score =', scorefxn(poseA))\n",
    "print()\n",
    "print('sequence :', poseA.sequence()[py_idx-5:py_idx+5])\n",
    "print()\n",
    "\n",
    "mutate_residue(poseA, py_idx, 'Y')\n",
    "\n",
    "print()\n",
    "print('score =', scorefxn(poseA))\n",
    "print()\n",
    "print('sequence :', poseA.sequence()[py_idx-5:py_idx+5])\n",
    "\n",
    "pymover.apply(poseA) # visualize residue 242 in PyMOL again; it is now a tyrosine"
   ]
  },
  {
   "cell_type": "markdown",
   "id": "15c99569",
   "metadata": {},
   "source": [
    "We notice that the energy contribution from this residue has become a bit more favorable with this mutation. This change is not enough, though, to offset the vast energy increase associated with rotating the alpha helix upward."
   ]
  },
  {
   "cell_type": "markdown",
   "id": "2ec04076",
   "metadata": {},
   "source": [
    "### Exporting a Structure\n",
    "\n",
    "An altered structure can be exported to a PDB file, which makes pyRosetta quite useful as a tool for manipulating PDB files."
   ]
  },
  {
   "cell_type": "code",
   "execution_count": null,
   "id": "6cf80583",
   "metadata": {},
   "outputs": [],
   "source": [
    "poseA.dump_pdb('poseA.pdb')"
   ]
  },
  {
   "cell_type": "markdown",
   "id": "b5d56d1b",
   "metadata": {},
   "source": [
    "# Relaxing a Pose\n",
    "\n",
    "### The FastRelax Mover\n",
    "\n",
    "Though the score has increased considerably, we will see if we can change the conformation of some of the sidechains in order to bring the score part of the way back down. In other words, we want to find a low score (free energy) configuration of the protein, subject to the backbone we have imposed upon it. This is done as follows, using a class called a \"mover\" to make changes to the structure (specifically we will utilize a mover that carries out the \"FastRelax\" protocol):"
   ]
  },
  {
   "cell_type": "code",
   "execution_count": null,
   "id": "3a74a0d2",
   "metadata": {},
   "outputs": [],
   "source": [
    "relax = rosetta.protocols.relax.FastRelax()"
   ]
  },
  {
   "cell_type": "markdown",
   "id": "f34783c1",
   "metadata": {},
   "source": [
    "Hypothetically we now would apply the mover to the pose in order to relax it, then see the improvement to the score that results. Since this takes some time, I have done this on my own device and included the result in the Github repository."
   ]
  },
  {
   "cell_type": "code",
   "execution_count": null,
   "id": "816cb8e0",
   "metadata": {},
   "outputs": [],
   "source": [
    "# relax.apply(poseA)\n",
    "# poseA.dump('results/poseA_relaxed.pdb')\n",
    "\n",
    "poseA = pose_from_pdb('results/poseA_relaxed.pdb')\n",
    "\n",
    "print()\n",
    "print('score =', scorefxn(poseA))\n",
    "\n",
    "pymover.apply(poseA)"
   ]
  },
  {
   "cell_type": "markdown",
   "id": "6a56f099",
   "metadata": {},
   "source": [
    "We note that the score has considerably improved, and upon viewing the pose in PyMOL, we find that the hinge has again closed, assuming a pose similar to that in the RCSB."
   ]
  },
  {
   "cell_type": "markdown",
   "id": "e674af18",
   "metadata": {},
   "source": [
    "# Protein Modelling with AlphaFold2\n",
    "\n",
    "We will now turn to some protein modelling using AlphaFold2, a deep learning-based protein folding algorithm that offers the best-quality folding models available for most proteins. To do so, we will work with the ColabFold notebook, developed by Milot Mirdita, Sergey Ovchinnikov, and Martin Steinegger from the original Google Colab notebook released by DeepMind (the developers for AlphaFold2). We will begin by again printing out the sequence for Co-LOCKR:"
   ]
  },
  {
   "cell_type": "code",
   "execution_count": null,
   "id": "4b95953f",
   "metadata": {},
   "outputs": [],
   "source": [
    "poseA.sequence()"
   ]
  },
  {
   "cell_type": "markdown",
   "id": "bad08a94",
   "metadata": {},
   "source": [
    "We can fold this sequence at the standard ColabFold Notebook, found at:\n",
    "https://colab.research.google.com/github/sokrypton/ColabFold/blob/main/AlphaFold2.ipynb"
   ]
  },
  {
   "cell_type": "markdown",
   "id": "058d8069",
   "metadata": {},
   "source": [
    "We will also print out the sequence for another modelling target: Co-LOCKR without its C-terminal helix, but in the presence of the key helix. This will be a complex of two non-identical proteins, or a hetero-complex. Recall that we stored the integer index of the loop residue between the fifth and sixth helices as `py_idx`, and so we can acquire the sequence of the first five helices by slicing up to this value. We also stored the sequence of the key as `seq_key`. For hetero-complex modelling ColabFold takes as input the non-contiguous protein sequences separated by a colon. Let's make this sequence:"
   ]
  },
  {
   "cell_type": "code",
   "execution_count": null,
   "id": "087b9ac4",
   "metadata": {},
   "outputs": [],
   "source": [
    "seq_hetero = poseA.sequence()[:py_idx] + ':' + seq_key\n",
    "print(seq_hetero)"
   ]
  },
  {
   "cell_type": "markdown",
   "id": "1133d5ac",
   "metadata": {},
   "source": [
    "We can fold this sequence at the advanced ColabFold Notebook, found at:\n",
    "https://colab.research.google.com/github/sokrypton/ColabFold/blob/main/beta/AlphaFold2_advanced.ipynb"
   ]
  },
  {
   "cell_type": "markdown",
   "id": "2480b5e4",
   "metadata": {},
   "source": [
    "# Working with C++ Rosetta\n",
    "\n",
    "Hailey will now walk you through some of the function of Rosetta using the original C++ build of Rosetta on Wynton."
   ]
  }
 ],
 "metadata": {
  "kernelspec": {
   "display_name": "Python 3",
   "language": "python",
   "name": "python3"
  },
  "language_info": {
   "codemirror_mode": {
    "name": "ipython",
    "version": 3
   },
   "file_extension": ".py",
   "mimetype": "text/x-python",
   "name": "python",
   "nbconvert_exporter": "python",
   "pygments_lexer": "ipython3",
   "version": "3.6.13"
  }
 },
 "nbformat": 4,
 "nbformat_minor": 5
}
